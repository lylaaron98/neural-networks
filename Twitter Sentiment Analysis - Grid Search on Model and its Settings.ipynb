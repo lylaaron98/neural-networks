{
 "cells": [
  {
   "cell_type": "markdown",
   "metadata": {
    "id": "NabaEBkNXsxH"
   },
   "source": [
    " ## Defining the problem and assembling a dataset"
   ]
  },
  {
   "cell_type": "markdown",
   "metadata": {
    "id": "Zx_EnzzuXsxJ"
   },
   "source": [
    "- Kaggle Twitter Sentiment Analysis\n",
    "  - https://www.kaggle.com/datasets/jp797498e/twitter-entity-sentiment-analysis\n",
    "- Multi-Class Classification Problem"
   ]
  },
  {
   "cell_type": "markdown",
   "metadata": {
    "id": "o-wVu4mKXsxJ"
   },
   "source": [
    " ## Choosing a measure of success"
   ]
  },
  {
   "cell_type": "markdown",
   "metadata": {
    "id": "CqcFO9HyXsxJ"
   },
   "source": [
    "\n",
    "- Precision and Recall\n",
    "- AUC"
   ]
  },
  {
   "cell_type": "markdown",
   "metadata": {
    "id": "iQ3TlQaJXsxK"
   },
   "source": [
    "## Deciding on an evaluation protocol"
   ]
  },
  {
   "cell_type": "markdown",
   "metadata": {
    "id": "izHqzwzRXsxK"
   },
   "source": [
    "- Maintaining a hold-out validation set\n",
    "- Doing K-fold cross-validation"
   ]
  },
  {
   "cell_type": "markdown",
   "metadata": {
    "id": "OUAhPlpvXsxK"
   },
   "source": [
    "## Preparing your data"
   ]
  },
  {
   "cell_type": "code",
   "execution_count": 11,
   "metadata": {
    "colab": {
     "base_uri": "https://localhost:8080/"
    },
    "id": "i4S0tiStcOxV",
    "outputId": "b2e5d746-1080-4b72-cd28-74f88385b3e1"
   },
   "outputs": [],
   "source": [
    "import os\n",
    "os.environ[\"CUDA_VISIBLE_DEVICES\"] = \"-1\"\n",
    "\n",
    "import pandas as pd\n",
    "import numpy as np\n",
    "\n",
    "from sklearn.preprocessing import LabelEncoder\n",
    "from sklearn.model_selection import train_test_split\n",
    "from sklearn.model_selection import StratifiedKFold\n",
    "from sklearn.utils.class_weight import compute_class_weight\n",
    "from sklearn.metrics import accuracy_score, precision_score, recall_score, roc_auc_score\n",
    "from sklearn.metrics import balanced_accuracy_score, confusion_matrix, ConfusionMatrixDisplay\n",
    "from sklearn.feature_extraction.text import TfidfVectorizer\n",
    "\n",
    "import keras\n",
    "from keras.utils import np_utils\n",
    "from keras.models import Sequential, clone_model\n",
    "from keras.layers import Dense, Dropout\n",
    "from keras.callbacks import EarlyStopping\n",
    "import tensorflow\n",
    "from tensorflow.keras.optimizers import RMSprop\n",
    "from tensorflow.keras.metrics import Precision, Recall, AUC\n",
    "\n",
    "import itertools\n",
    "import matplotlib.pyplot as plt\n",
    "\n",
    "SEED = 204\n",
    "\n",
    "tensorflow.random.set_seed(SEED)\n",
    "np.random.seed(SEED)\n",
    "\n",
    "import warnings\n",
    "warnings.filterwarnings('ignore')\n",
    "\n",
    "FILE_PATH = 'twitter.csv'"
   ]
  },
  {
   "cell_type": "code",
   "execution_count": 12,
   "metadata": {
    "colab": {
     "base_uri": "https://localhost:8080/",
     "height": 206
    },
    "id": "tTSEubw5XsxM",
    "outputId": "761b554a-7ba5-4a02-a91d-7a9c6bc62658"
   },
   "outputs": [
    {
     "data": {
      "text/html": [
       "<div>\n",
       "<style scoped>\n",
       "    .dataframe tbody tr th:only-of-type {\n",
       "        vertical-align: middle;\n",
       "    }\n",
       "\n",
       "    .dataframe tbody tr th {\n",
       "        vertical-align: top;\n",
       "    }\n",
       "\n",
       "    .dataframe thead th {\n",
       "        text-align: right;\n",
       "    }\n",
       "</style>\n",
       "<table border=\"1\" class=\"dataframe\">\n",
       "  <thead>\n",
       "    <tr style=\"text-align: right;\">\n",
       "      <th></th>\n",
       "      <th>sentiment</th>\n",
       "      <th>text</th>\n",
       "    </tr>\n",
       "  </thead>\n",
       "  <tbody>\n",
       "    <tr>\n",
       "      <th>0</th>\n",
       "      <td>Positive</td>\n",
       "      <td>im getting on borderlands and i will murder yo...</td>\n",
       "    </tr>\n",
       "    <tr>\n",
       "      <th>1</th>\n",
       "      <td>Positive</td>\n",
       "      <td>I am coming to the borders and I will kill you...</td>\n",
       "    </tr>\n",
       "    <tr>\n",
       "      <th>2</th>\n",
       "      <td>Positive</td>\n",
       "      <td>im getting on borderlands and i will kill you ...</td>\n",
       "    </tr>\n",
       "    <tr>\n",
       "      <th>3</th>\n",
       "      <td>Positive</td>\n",
       "      <td>im coming on borderlands and i will murder you...</td>\n",
       "    </tr>\n",
       "    <tr>\n",
       "      <th>4</th>\n",
       "      <td>Positive</td>\n",
       "      <td>im getting on borderlands 2 and i will murder ...</td>\n",
       "    </tr>\n",
       "  </tbody>\n",
       "</table>\n",
       "</div>"
      ],
      "text/plain": [
       "  sentiment                                               text\n",
       "0  Positive  im getting on borderlands and i will murder yo...\n",
       "1  Positive  I am coming to the borders and I will kill you...\n",
       "2  Positive  im getting on borderlands and i will kill you ...\n",
       "3  Positive  im coming on borderlands and i will murder you...\n",
       "4  Positive  im getting on borderlands 2 and i will murder ..."
      ]
     },
     "execution_count": 12,
     "metadata": {},
     "output_type": "execute_result"
    }
   ],
   "source": [
    "tweets = pd.read_csv(FILE_PATH, sep=',', header=None)\n",
    "\n",
    "tweets = tweets[[2, 3]]\n",
    "tweets.columns = ['sentiment', 'text']\n",
    "\n",
    "tweets.dropna(inplace=True)\n",
    "\n",
    "tweets.head()"
   ]
  },
  {
   "cell_type": "code",
   "execution_count": 13,
   "metadata": {
    "id": "7qchj6u5XsxM"
   },
   "outputs": [],
   "source": [
    "TEST_SIZE = 0.1\n",
    "\n",
    "(tweets_train, tweets_test, \n",
    " sentiment_train, sentiment_test) = train_test_split(tweets['text'], tweets['sentiment'], \n",
    "                                                     test_size=TEST_SIZE, stratify=tweets['sentiment'],\n",
    "                                                     shuffle=True, random_state=SEED)"
   ]
  },
  {
   "cell_type": "code",
   "execution_count": 14,
   "metadata": {
    "id": "U0YyPbpiXsxM"
   },
   "outputs": [],
   "source": [
    "MAX_FEATURES = 2500\n",
    "NGRAMS = 2\n",
    "\n",
    "tfidf = TfidfVectorizer(ngram_range=(1, NGRAMS), max_features=MAX_FEATURES)\n",
    "tfidf.fit(tweets_train)\n",
    "\n",
    "X_train, X_test = tfidf.transform(tweets_train).toarray(), tfidf.transform(tweets_test).toarray()"
   ]
  },
  {
   "cell_type": "code",
   "execution_count": 15,
   "metadata": {
    "id": "m7VxFhHkXsxN"
   },
   "outputs": [],
   "source": [
    "label_encoder = LabelEncoder()\n",
    "label_encoder.fit(tweets['sentiment'])\n",
    "\n",
    "y_train = np_utils.to_categorical(label_encoder.transform(sentiment_train))\n",
    "y_test = np_utils.to_categorical(label_encoder.transform(sentiment_test))"
   ]
  },
  {
   "cell_type": "code",
   "execution_count": 16,
   "metadata": {
    "id": "6nJJFwLjXsxN"
   },
   "outputs": [],
   "source": [
    "VALIDATION_SIZE = X_test.shape[0]\n",
    "\n",
    "X_train, X_val, y_train, y_val = train_test_split(X_train, y_train, \n",
    "                                                 test_size=VALIDATION_SIZE, stratify=y_train,\n",
    "                                                 shuffle=True, random_state=SEED)"
   ]
  },
  {
   "cell_type": "markdown",
   "metadata": {
    "id": "3RjfMrTDXsxN"
   },
   "source": [
    "##  Developing a model that does better than a baseline"
   ]
  },
  {
   "cell_type": "code",
   "execution_count": 17,
   "metadata": {
    "colab": {
     "base_uri": "https://localhost:8080/",
     "height": 175
    },
    "id": "KtKU-GtDXsxN",
    "outputId": "ccc9155c-c688-48da-dda2-637445dd2526"
   },
   "outputs": [
    {
     "data": {
      "text/html": [
       "<div>\n",
       "<style scoped>\n",
       "    .dataframe tbody tr th:only-of-type {\n",
       "        vertical-align: middle;\n",
       "    }\n",
       "\n",
       "    .dataframe tbody tr th {\n",
       "        vertical-align: top;\n",
       "    }\n",
       "\n",
       "    .dataframe thead th {\n",
       "        text-align: right;\n",
       "    }\n",
       "</style>\n",
       "<table border=\"1\" class=\"dataframe\">\n",
       "  <thead>\n",
       "    <tr style=\"text-align: right;\">\n",
       "      <th></th>\n",
       "      <th>sentiment</th>\n",
       "      <th>text</th>\n",
       "    </tr>\n",
       "  </thead>\n",
       "  <tbody>\n",
       "    <tr>\n",
       "      <th>0</th>\n",
       "      <td>Irrelevant</td>\n",
       "      <td>12875</td>\n",
       "    </tr>\n",
       "    <tr>\n",
       "      <th>1</th>\n",
       "      <td>Negative</td>\n",
       "      <td>22358</td>\n",
       "    </tr>\n",
       "    <tr>\n",
       "      <th>2</th>\n",
       "      <td>Neutral</td>\n",
       "      <td>18108</td>\n",
       "    </tr>\n",
       "    <tr>\n",
       "      <th>3</th>\n",
       "      <td>Positive</td>\n",
       "      <td>20655</td>\n",
       "    </tr>\n",
       "  </tbody>\n",
       "</table>\n",
       "</div>"
      ],
      "text/plain": [
       "    sentiment   text\n",
       "0  Irrelevant  12875\n",
       "1    Negative  22358\n",
       "2     Neutral  18108\n",
       "3    Positive  20655"
      ]
     },
     "execution_count": 17,
     "metadata": {},
     "output_type": "execute_result"
    }
   ],
   "source": [
    "counts = tweets.groupby(['sentiment']).count()\n",
    "counts.reset_index(inplace=True)\n",
    "\n",
    "counts"
   ]
  },
  {
   "cell_type": "code",
   "execution_count": 18,
   "metadata": {
    "colab": {
     "base_uri": "https://localhost:8080/"
    },
    "id": "wftS1RwKXsxO",
    "outputId": "84a777d5-eb1d-4f03-e3c8-6f66f1d7a2d8"
   },
   "outputs": [
    {
     "data": {
      "text/plain": [
       "0.3021514676468998"
      ]
     },
     "execution_count": 18,
     "metadata": {},
     "output_type": "execute_result"
    }
   ],
   "source": [
    "naive_baseline = counts[counts['sentiment']=='Negative']['text'].values[0] / counts['text'].sum()\n",
    "\n",
    "naive_baseline"
   ]
  },
  {
   "cell_type": "code",
   "execution_count": 19,
   "metadata": {
    "colab": {
     "base_uri": "https://localhost:8080/"
    },
    "id": "mD6bRoCYXsxO",
    "outputId": "693f4545-74e5-496c-c2b2-24246dbda391"
   },
   "outputs": [
    {
     "data": {
      "text/plain": [
       "{0: 1.4367961165048544,\n",
       " 1: 0.8274069104327407,\n",
       " 2: 1.0216070688941046,\n",
       " 3: 0.8956063907044299}"
      ]
     },
     "execution_count": 19,
     "metadata": {},
     "output_type": "execute_result"
    }
   ],
   "source": [
    "labels = np.argmax(y_train, axis=1)\n",
    "weights = compute_class_weight('balanced', classes=np.unique(labels), y=labels)\n",
    "CLASS_WEIGHT = dict(enumerate(weights))\n",
    "\n",
    "CLASS_WEIGHT"
   ]
  },
  {
   "cell_type": "code",
   "execution_count": 20,
   "metadata": {
    "id": "lv8kZpQUXsxO"
   },
   "outputs": [
    {
     "name": "stderr",
     "output_type": "stream",
     "text": [
      "2023-03-08 06:53:17.203064: E tensorflow/compiler/xla/stream_executor/cuda/cuda_driver.cc:267] failed call to cuInit: CUDA_ERROR_NO_DEVICE: no CUDA-capable device is detected\n",
      "2023-03-08 06:53:17.203112: I tensorflow/compiler/xla/stream_executor/cuda/cuda_diagnostics.cc:169] retrieving CUDA diagnostic information for host: snottingham\n",
      "2023-03-08 06:53:17.203122: I tensorflow/compiler/xla/stream_executor/cuda/cuda_diagnostics.cc:176] hostname: snottingham\n",
      "2023-03-08 06:53:17.203257: I tensorflow/compiler/xla/stream_executor/cuda/cuda_diagnostics.cc:200] libcuda reported version is: 510.73.8\n",
      "2023-03-08 06:53:17.203287: I tensorflow/compiler/xla/stream_executor/cuda/cuda_diagnostics.cc:204] kernel reported version is: 510.73.8\n",
      "2023-03-08 06:53:17.203295: I tensorflow/compiler/xla/stream_executor/cuda/cuda_diagnostics.cc:310] kernel version seems to match DSO: 510.73.8\n",
      "2023-03-08 06:53:17.203757: I tensorflow/core/platform/cpu_feature_guard.cc:193] This TensorFlow binary is optimized with oneAPI Deep Neural Network Library (oneDNN) to use the following CPU instructions in performance-critical operations:  AVX2 FMA\n",
      "To enable them in other operations, rebuild TensorFlow with the appropriate compiler flags.\n"
     ]
    }
   ],
   "source": [
    "INPUT_DIMENSION = X_train.shape[1]\n",
    "OUTPUT_CLASSES = y_train.shape[1]\n",
    "\n",
    "OPTIMIZER = 'rmsprop'\n",
    "LOSS_FUNC = 'categorical_crossentropy'\n",
    "METRICS = ['categorical_accuracy', \n",
    "           Precision(name='precision'), \n",
    "           Recall(name='recall'),\n",
    "           AUC(name='auc', multi_label=True)]\n",
    "\n",
    "MONITOR = 'val_loss'\n",
    "PATIENCE = 5\n",
    "\n",
    "EARLY_STOP = EarlyStopping(monitor=MONITOR, restore_best_weights=True, patience=PATIENCE, verbose=0)"
   ]
  },
  {
   "cell_type": "code",
   "execution_count": 21,
   "metadata": {
    "colab": {
     "base_uri": "https://localhost:8080/"
    },
    "id": "_lBiDg38XsxO",
    "outputId": "0838e652-32af-4d10-b2c9-7f9135cfc09c"
   },
   "outputs": [
    {
     "name": "stdout",
     "output_type": "stream",
     "text": [
      "Model: \"baseline\"\n",
      "_________________________________________________________________\n",
      " Layer (type)                Output Shape              Param #   \n",
      "=================================================================\n",
      " dense (Dense)               (None, 4)                 10004     \n",
      "                                                                 \n",
      "=================================================================\n",
      "Total params: 10,004\n",
      "Trainable params: 10,004\n",
      "Non-trainable params: 0\n",
      "_________________________________________________________________\n"
     ]
    }
   ],
   "source": [
    "baseline = Sequential(\n",
    "    [\n",
    "        Dense(OUTPUT_CLASSES, activation='softmax', input_shape=(INPUT_DIMENSION,))\n",
    "    ]\n",
    ")\n",
    "\n",
    "baseline._name = 'baseline'\n",
    "baseline_initial_weights = baseline.get_weights()\n",
    "\n",
    "baseline.summary()"
   ]
  },
  {
   "cell_type": "code",
   "execution_count": 22,
   "metadata": {
    "id": "TUG9WrVyXsxO"
   },
   "outputs": [],
   "source": [
    "learning_rate = 0.01\n",
    "\n",
    "baseline.compile(optimizer=RMSprop(learning_rate=learning_rate), \n",
    "                 loss=LOSS_FUNC, metrics=METRICS)"
   ]
  },
  {
   "cell_type": "code",
   "execution_count": 23,
   "metadata": {
    "id": "XcyQ4mTeXsxP"
   },
   "outputs": [
    {
     "name": "stderr",
     "output_type": "stream",
     "text": [
      "2023-03-08 06:53:21.947104: W tensorflow/tsl/framework/cpu_allocator_impl.cc:82] Allocation of 591960000 exceeds 10% of free system memory.\n"
     ]
    }
   ],
   "source": [
    "EPOCHS = 100\n",
    "batch_size=512\n",
    "\n",
    "baseline.set_weights(baseline_initial_weights)\n",
    "\n",
    "baseline_history = baseline.fit(X_train, y_train,\n",
    "                                class_weight=CLASS_WEIGHT,\n",
    "                                batch_size=batch_size, epochs=EPOCHS, \n",
    "                                validation_data=(X_val, y_val),\n",
    "                                callbacks=[EARLY_STOP],\n",
    "                                verbose=0)"
   ]
  },
  {
   "cell_type": "code",
   "execution_count": 24,
   "metadata": {
    "colab": {
     "base_uri": "https://localhost:8080/"
    },
    "id": "4nMLx5qVXsxP",
    "outputId": "e8d83ad2-e3ce-4ebb-b1e7-3752581493a6"
   },
   "outputs": [
    {
     "name": "stdout",
     "output_type": "stream",
     "text": [
      "Accuracy (Validation): 0.63 (Naive Baseline=0.30)\n",
      "Precision (Validation): 0.72\n",
      "Recall (Validation): 0.53\n",
      "AUC (Validation): 0.86\n"
     ]
    }
   ],
   "source": [
    "baseline_scores = baseline.evaluate(X_val, y_val, verbose=0)[1:]\n",
    "\n",
    "print('Accuracy (Validation): {:.2f} (Naive Baseline={:.2f})'.format(baseline_scores[0], naive_baseline))\n",
    "print('Precision (Validation): {:.2f}'.format(baseline_scores[1]))\n",
    "print('Recall (Validation): {:.2f}'.format(baseline_scores[2]))\n",
    "print('AUC (Validation): {:.2f}'.format(baseline_scores[3]))"
   ]
  },
  {
   "cell_type": "code",
   "execution_count": 25,
   "metadata": {
    "id": "VhJOBBx3XsxP"
   },
   "outputs": [],
   "source": [
    "def plot_training_history(history, monitor='loss') :\n",
    "    loss, val_loss = history.history[monitor], history.history['val_' + monitor]\n",
    "\n",
    "    epochs = range(1, len(loss)+1)\n",
    "\n",
    "    plt.plot(epochs, loss, 'b.', label=monitor)\n",
    "    plt.plot(epochs, val_loss, 'r.', label='Validation ' + monitor)\n",
    "    plt.xlim([0, len(loss)])\n",
    "    plt.title('Training and Validation ' + monitor + 's')\n",
    "    plt.xlabel('Epochs')\n",
    "    plt.ylabel(monitor)\n",
    "    plt.legend()\n",
    "    plt.grid()\n",
    "    _ = plt.show()"
   ]
  },
  {
   "cell_type": "code",
   "execution_count": 26,
   "metadata": {
    "colab": {
     "base_uri": "https://localhost:8080/",
     "height": 295
    },
    "id": "ZKtLXqKPXsxP",
    "outputId": "d1626050-003f-492b-ca3a-3bab9984c228"
   },
   "outputs": [
    {
     "data": {
      "image/png": "[encoded data removed]",
      "text/plain": [
       "<Figure size 640x480 with 1 Axes>"
      ]
     },
     "metadata": {},
     "output_type": "display_data"
    }
   ],
   "source": [
    "plot_training_history(baseline_history, monitor='loss')"
   ]
  },
  {
   "cell_type": "markdown",
   "metadata": {
    "id": "zY_nvz9EXsxQ"
   },
   "source": [
    " ## Scaling up: developing a model that overfits"
   ]
  },
  {
   "cell_type": "code",
   "execution_count": 27,
   "metadata": {
    "colab": {
     "base_uri": "https://localhost:8080/"
    },
    "id": "wOZxU4-LXsxQ",
    "outputId": "61154186-b53b-4ebc-d648-c275417c6dcc"
   },
   "outputs": [
    {
     "name": "stdout",
     "output_type": "stream",
     "text": [
      "Model: \"overfit\"\n",
      "_________________________________________________________________\n",
      " Layer (type)                Output Shape              Param #   \n",
      "=================================================================\n",
      " dense_1 (Dense)             (None, 64)                160064    \n",
      "                                                                 \n",
      " dense_2 (Dense)             (None, 4)                 260       \n",
      "                                                                 \n",
      "=================================================================\n",
      "Total params: 160,324\n",
      "Trainable params: 160,324\n",
      "Non-trainable params: 0\n",
      "_________________________________________________________________\n"
     ]
    }
   ],
   "source": [
    "\n",
    "overfit = Sequential(\n",
    "    [\n",
    "        Dense(64, activation='relu', input_shape=(INPUT_DIMENSION,)),\n",
    "        Dense(OUTPUT_CLASSES, activation='softmax')\n",
    "    ]\n",
    ")\n",
    "\n",
    "overfit_initial_weights = overfit.get_weights()\n",
    "overfit._name = 'overfit'\n",
    "\n",
    "overfit.summary()"
   ]
  },
  {
   "cell_type": "code",
   "execution_count": 28,
   "metadata": {
    "id": "mL7JAMtBXsxQ"
   },
   "outputs": [],
   "source": [
    "learning_rate = 0.0025\n",
    "\n",
    "overfit.compile(optimizer=RMSprop(learning_rate=learning_rate), \n",
    "                loss=LOSS_FUNC, metrics=METRICS)\n",
    "\n",
    "overfit.set_weights(overfit_initial_weights)"
   ]
  },
  {
   "cell_type": "code",
   "execution_count": 29,
   "metadata": {
    "id": "LouHN4Z1XsxQ"
   },
   "outputs": [
    {
     "name": "stderr",
     "output_type": "stream",
     "text": [
      "2023-03-08 06:53:40.326486: W tensorflow/tsl/framework/cpu_allocator_impl.cc:82] Allocation of 591960000 exceeds 10% of free system memory.\n"
     ]
    }
   ],
   "source": [
    "EPOCHS = 100\n",
    "batch_size=512\n",
    "\n",
    "overfit.set_weights(overfit_initial_weights)\n",
    "\n",
    "overfit_history = overfit.fit(X_train, y_train,\n",
    "                              class_weight=CLASS_WEIGHT,\n",
    "                              batch_size=batch_size, epochs=EPOCHS, \n",
    "                              validation_data=(X_val, y_val),\n",
    "                              callbacks=[],\n",
    "                              verbose=0)"
   ]
  },
  {
   "cell_type": "code",
   "execution_count": 30,
   "metadata": {
    "colab": {
     "base_uri": "https://localhost:8080/"
    },
    "id": "I6BBK3fDXsxQ",
    "outputId": "94e2b547-eacd-419b-a7ae-f79d7f8cd46b"
   },
   "outputs": [
    {
     "name": "stdout",
     "output_type": "stream",
     "text": [
      "Accuracy (Validation): 0.84 (Naive Baseline = 0.30)\n",
      "Precision (Validation): 0.87\n",
      "Recall (Validation): 0.83\n",
      "AUC (Validation): 0.96\n"
     ]
    }
   ],
   "source": [
    "overfit_scores = overfit.evaluate(X_val, y_val, verbose=0)[1:]\n",
    "\n",
    "print('Accuracy (Validation): {:.2f} (Naive Baseline = {:.2f})'.format(overfit_scores[0], naive_baseline))\n",
    "print('Precision (Validation): {:.2f}'.format(overfit_scores[1]))\n",
    "print('Recall (Validation): {:.2f}'.format(overfit_scores[2]))\n",
    "print('AUC (Validation): {:.2f}'.format(overfit_scores[3]))"
   ]
  },
  {
   "cell_type": "code",
   "execution_count": 31,
   "metadata": {
    "colab": {
     "base_uri": "https://localhost:8080/",
     "height": 295
    },
    "id": "cqEhOgRBXsxQ",
    "outputId": "3d79f3a0-fab1-4133-91ff-a1b5dd843d04"
   },
   "outputs": [
    {
     "data": {
      "image/png": "[encoded data removed]",
      "text/plain": [
       "<Figure size 640x480 with 1 Axes>"
      ]
     },
     "metadata": {},
     "output_type": "display_data"
    }
   ],
   "source": [
    "plot_training_history(overfit_history, monitor='loss')"
   ]
  },
  {
   "cell_type": "markdown",
   "metadata": {
    "id": "zNMDjhXKXsxQ"
   },
   "source": [
    " ## Regularizing your model and tuning your hyperparameters"
   ]
  },
  {
   "cell_type": "code",
   "execution_count": 32,
   "metadata": {
    "colab": {
     "base_uri": "https://localhost:8080/"
    },
    "id": "H_K9NP9cZuQQ",
    "outputId": "c8e11198-70cb-4a65-bf0b-01d23e24dd66"
   },
   "outputs": [
    {
     "name": "stdout",
     "output_type": "stream",
     "text": [
      "Model: \"deep\"\n",
      "_________________________________________________________________\n",
      " Layer (type)                Output Shape              Param #   \n",
      "=================================================================\n",
      " dense_3 (Dense)             (None, 64)                160064    \n",
      "                                                                 \n",
      " dropout (Dropout)           (None, 64)                0         \n",
      "                                                                 \n",
      " dense_4 (Dense)             (None, 4)                 260       \n",
      "                                                                 \n",
      "=================================================================\n",
      "Total params: 160,324\n",
      "Trainable params: 160,324\n",
      "Non-trainable params: 0\n",
      "_________________________________________________________________\n"
     ]
    }
   ],
   "source": [
    "# over-sized model - neural network architecture that can overfit the data\n",
    "deep = Sequential(\n",
    "    [\n",
    "        Dense(64, activation='relu', input_shape=(INPUT_DIMENSION,)),\n",
    "        Dropout(0.5),\n",
    "        Dense(OUTPUT_CLASSES, activation='softmax')\n",
    "    ]\n",
    ")\n",
    "\n",
    "deep_initial_weights = deep.get_weights()\n",
    "deep._name = 'deep'\n",
    "\n",
    "deep.summary()"
   ]
  },
  {
   "cell_type": "code",
   "execution_count": 33,
   "metadata": {
    "colab": {
     "base_uri": "https://localhost:8080/"
    },
    "id": "EH9-9aC8Ziko",
    "outputId": "9507a843-cb81-4222-f608-f9a10f67006d"
   },
   "outputs": [
    {
     "name": "stdout",
     "output_type": "stream",
     "text": [
      "Model: \"wider\"\n",
      "_________________________________________________________________\n",
      " Layer (type)                Output Shape              Param #   \n",
      "=================================================================\n",
      " dense_5 (Dense)             (None, 128)               320128    \n",
      "                                                                 \n",
      " dropout_1 (Dropout)         (None, 128)               0         \n",
      "                                                                 \n",
      " dense_6 (Dense)             (None, 4)                 516       \n",
      "                                                                 \n",
      "=================================================================\n",
      "Total params: 320,644\n",
      "Trainable params: 320,644\n",
      "Non-trainable params: 0\n",
      "_________________________________________________________________\n"
     ]
    }
   ],
   "source": [
    "wider = Sequential(\n",
    "    [\n",
    "        Dense(128, activation='relu', input_shape=(INPUT_DIMENSION,)),\n",
    "        Dropout(0.5),\n",
    "        Dense(OUTPUT_CLASSES, activation='softmax')\n",
    "    ]\n",
    ")\n",
    "\n",
    "wider_initial_weights = wider.get_weights()\n",
    "wider._name = 'wider'\n",
    "\n",
    "wider.summary()"
   ]
  },
  {
   "cell_type": "code",
   "execution_count": 34,
   "metadata": {
    "colab": {
     "base_uri": "https://localhost:8080/"
    },
    "id": "m06n1_mKaMiv",
    "outputId": "32ca2d0f-1ac7-4dba-9d04-5b589ea11401"
   },
   "outputs": [
    {
     "name": "stdout",
     "output_type": "stream",
     "text": [
      "Model: \"deeper\"\n",
      "_________________________________________________________________\n",
      " Layer (type)                Output Shape              Param #   \n",
      "=================================================================\n",
      " dense_7 (Dense)             (None, 64)                160064    \n",
      "                                                                 \n",
      " dropout_2 (Dropout)         (None, 64)                0         \n",
      "                                                                 \n",
      " dense_8 (Dense)             (None, 64)                4160      \n",
      "                                                                 \n",
      " dropout_3 (Dropout)         (None, 64)                0         \n",
      "                                                                 \n",
      " dense_9 (Dense)             (None, 4)                 260       \n",
      "                                                                 \n",
      "=================================================================\n",
      "Total params: 164,484\n",
      "Trainable params: 164,484\n",
      "Non-trainable params: 0\n",
      "_________________________________________________________________\n"
     ]
    }
   ],
   "source": [
    "deeper = Sequential(\n",
    "    [\n",
    "        Dense(64, activation='relu', input_shape=(INPUT_DIMENSION,)),\n",
    "        Dropout(0.5),\n",
    "        Dense(64, activation='relu'),\n",
    "        Dropout(0.5),\n",
    "        Dense(OUTPUT_CLASSES, activation='softmax')\n",
    "    ]\n",
    ")\n",
    "\n",
    "deeper_initial_weights = deeper.get_weights()\n",
    "deeper._name = 'deeper'\n",
    "\n",
    "deeper.summary()"
   ]
  },
  {
   "cell_type": "code",
   "execution_count": 35,
   "metadata": {
    "id": "hTnIDZT6XsxR"
   },
   "outputs": [],
   "source": [
    "def cross_validation(X, y,\n",
    "                     class_weight,\n",
    "                     params, kfolds, epochs,\n",
    "                     callbacks, seed=0) :\n",
    "    evaluations = []\n",
    "    for train, validate in kfolds.split(X, y.argmax(axis=1)) :\n",
    "        model = clone_model(params['model'])\n",
    "        \n",
    "        for layer in model.layers :\n",
    "            if type(layer) == keras.layers.regularization.dropout.Dropout :\n",
    "                layer.rate = params['dropout']\n",
    "        \n",
    "        model.compile(optimizer=RMSprop(learning_rate=params['learning_rate']), \n",
    "                      loss=LOSS_FUNC, metrics=METRICS)\n",
    "        \n",
    "        history = model.fit(X[train,:], y[train,:],\n",
    "                            class_weight=class_weight,\n",
    "                            batch_size=params['batch_size'], epochs=epochs, \n",
    "                            validation_data=(X[validate,:], y[validate,:]),\n",
    "                            callbacks=callbacks,\n",
    "                            verbose=0)\n",
    "        \n",
    "        evaluation = model.evaluate(X_val, y_val, verbose=0)[1:]\n",
    "        evaluations.append( evaluation )\n",
    "        \n",
    "    return np.mean(evaluations, axis=0)"
   ]
  },
  {
   "cell_type": "code",
   "execution_count": 36,
   "metadata": {
    "id": "U26piHpIXsxR"
   },
   "outputs": [],
   "source": [
    "def grid_search_cv(X, y,\n",
    "                   class_weight,\n",
    "                   search_space, cv,\n",
    "                   epochs, callbacks=[], seed=0) :\n",
    "    \n",
    "    keys, values = zip(*search_space.items())\n",
    "    \n",
    "    kfolds = StratifiedKFold(n_splits=cv, shuffle=True, random_state=seed)\n",
    "    \n",
    "    stats = {}\n",
    "    for params in [dict(zip(keys, v)) for v in itertools.product(*values)] :\n",
    "        \n",
    "        scores = cross_validation(X, y, class_weight,\n",
    "                                  params, kfolds, epochs,\n",
    "                                  callbacks, seed)\n",
    "        \n",
    "        params['model'] = params['model']._name\n",
    "        \n",
    "        stats[str(params)] = scores\n",
    "    \n",
    "    return stats"
   ]
  },
  {
   "cell_type": "code",
   "execution_count": 38,
   "metadata": {
    "id": "RImoc5YlXsxR"
   },
   "outputs": [],
   "source": [
    "# our search space\n",
    "params = {\n",
    "    'model': [deep, wider, deeper],\n",
    "    'dropout': [0.25, 0.5],\n",
    "    'learning_rate': [0.0025, 0.005],\n",
    "    'batch_size': [512]\n",
    "}\n",
    "\n",
    "EPOCHS = 500\n",
    "KFOLDS = 5"
   ]
  },
  {
   "cell_type": "code",
   "execution_count": 39,
   "metadata": {
    "id": "1Zehfi2pXsxR"
   },
   "outputs": [
    {
     "name": "stderr",
     "output_type": "stream",
     "text": [
      "2023-03-08 06:55:18.016795: W tensorflow/tsl/framework/cpu_allocator_impl.cc:82] Allocation of 473560000 exceeds 10% of free system memory.\n",
      "2023-03-08 06:55:55.727441: W tensorflow/tsl/framework/cpu_allocator_impl.cc:82] Allocation of 473570000 exceeds 10% of free system memory.\n",
      "2023-03-08 06:56:44.943183: W tensorflow/tsl/framework/cpu_allocator_impl.cc:82] Allocation of 473570000 exceeds 10% of free system memory.\n"
     ]
    }
   ],
   "source": [
    "stats = grid_search_cv(X_train, y_train,\n",
    "                       class_weight=CLASS_WEIGHT,\n",
    "                       search_space=params, cv=KFOLDS, epochs=EPOCHS, \n",
    "                       callbacks=[EARLY_STOP], seed=SEED)"
   ]
  },
  {
   "cell_type": "code",
   "execution_count": 40,
   "metadata": {
    "id": "-jjPOfKIjY6A"
   },
   "outputs": [],
   "source": [
    "def dict_to_dataframe(stats) :\n",
    "    entries = []\n",
    "    for key, value in stats.items() :\n",
    "        entry = eval(key)\n",
    "        \n",
    "        metrics = ['accuracy', 'precision', 'recall', 'auc']\n",
    "        for metric, score in zip(metrics, value) :\n",
    "            entry[metric] = score\n",
    "\n",
    "        entries.append(entry)\n",
    "\n",
    "    return pd.DataFrame(entries)"
   ]
  },
  {
   "cell_type": "code",
   "execution_count": 41,
   "metadata": {
    "id": "iSvZ58vBp0BI"
   },
   "outputs": [
    {
     "data": {
      "text/html": [
       "<div>\n",
       "<style scoped>\n",
       "    .dataframe tbody tr th:only-of-type {\n",
       "        vertical-align: middle;\n",
       "    }\n",
       "\n",
       "    .dataframe tbody tr th {\n",
       "        vertical-align: top;\n",
       "    }\n",
       "\n",
       "    .dataframe thead th {\n",
       "        text-align: right;\n",
       "    }\n",
       "</style>\n",
       "<table border=\"1\" class=\"dataframe\">\n",
       "  <thead>\n",
       "    <tr style=\"text-align: right;\">\n",
       "      <th></th>\n",
       "      <th>model</th>\n",
       "      <th>dropout</th>\n",
       "      <th>learning_rate</th>\n",
       "      <th>batch_size</th>\n",
       "      <th>accuracy</th>\n",
       "      <th>precision</th>\n",
       "      <th>recall</th>\n",
       "      <th>auc</th>\n",
       "    </tr>\n",
       "  </thead>\n",
       "  <tbody>\n",
       "    <tr>\n",
       "      <th>5</th>\n",
       "      <td>wider</td>\n",
       "      <td>0.25</td>\n",
       "      <td>0.0050</td>\n",
       "      <td>512</td>\n",
       "      <td>0.843351</td>\n",
       "      <td>0.879721</td>\n",
       "      <td>0.823297</td>\n",
       "      <td>0.966267</td>\n",
       "    </tr>\n",
       "    <tr>\n",
       "      <th>4</th>\n",
       "      <td>wider</td>\n",
       "      <td>0.25</td>\n",
       "      <td>0.0025</td>\n",
       "      <td>512</td>\n",
       "      <td>0.839541</td>\n",
       "      <td>0.876757</td>\n",
       "      <td>0.819676</td>\n",
       "      <td>0.964805</td>\n",
       "    </tr>\n",
       "    <tr>\n",
       "      <th>7</th>\n",
       "      <td>wider</td>\n",
       "      <td>0.50</td>\n",
       "      <td>0.0050</td>\n",
       "      <td>512</td>\n",
       "      <td>0.836297</td>\n",
       "      <td>0.876725</td>\n",
       "      <td>0.809216</td>\n",
       "      <td>0.962752</td>\n",
       "    </tr>\n",
       "    <tr>\n",
       "      <th>6</th>\n",
       "      <td>wider</td>\n",
       "      <td>0.50</td>\n",
       "      <td>0.0025</td>\n",
       "      <td>512</td>\n",
       "      <td>0.832865</td>\n",
       "      <td>0.876509</td>\n",
       "      <td>0.805919</td>\n",
       "      <td>0.961006</td>\n",
       "    </tr>\n",
       "    <tr>\n",
       "      <th>1</th>\n",
       "      <td>deep</td>\n",
       "      <td>0.25</td>\n",
       "      <td>0.0050</td>\n",
       "      <td>512</td>\n",
       "      <td>0.817622</td>\n",
       "      <td>0.860134</td>\n",
       "      <td>0.790432</td>\n",
       "      <td>0.954846</td>\n",
       "    </tr>\n",
       "    <tr>\n",
       "      <th>0</th>\n",
       "      <td>deep</td>\n",
       "      <td>0.25</td>\n",
       "      <td>0.0025</td>\n",
       "      <td>512</td>\n",
       "      <td>0.818703</td>\n",
       "      <td>0.858386</td>\n",
       "      <td>0.792784</td>\n",
       "      <td>0.954079</td>\n",
       "    </tr>\n",
       "    <tr>\n",
       "      <th>9</th>\n",
       "      <td>deeper</td>\n",
       "      <td>0.25</td>\n",
       "      <td>0.0050</td>\n",
       "      <td>512</td>\n",
       "      <td>0.812108</td>\n",
       "      <td>0.855165</td>\n",
       "      <td>0.784324</td>\n",
       "      <td>0.951883</td>\n",
       "    </tr>\n",
       "    <tr>\n",
       "      <th>8</th>\n",
       "      <td>deeper</td>\n",
       "      <td>0.25</td>\n",
       "      <td>0.0025</td>\n",
       "      <td>512</td>\n",
       "      <td>0.809595</td>\n",
       "      <td>0.852066</td>\n",
       "      <td>0.781730</td>\n",
       "      <td>0.951411</td>\n",
       "    </tr>\n",
       "    <tr>\n",
       "      <th>3</th>\n",
       "      <td>deep</td>\n",
       "      <td>0.50</td>\n",
       "      <td>0.0050</td>\n",
       "      <td>512</td>\n",
       "      <td>0.798838</td>\n",
       "      <td>0.853938</td>\n",
       "      <td>0.753892</td>\n",
       "      <td>0.945248</td>\n",
       "    </tr>\n",
       "    <tr>\n",
       "      <th>2</th>\n",
       "      <td>deep</td>\n",
       "      <td>0.50</td>\n",
       "      <td>0.0025</td>\n",
       "      <td>512</td>\n",
       "      <td>0.793622</td>\n",
       "      <td>0.847097</td>\n",
       "      <td>0.749405</td>\n",
       "      <td>0.943247</td>\n",
       "    </tr>\n",
       "  </tbody>\n",
       "</table>\n",
       "</div>"
      ],
      "text/plain": [
       "    model  dropout  learning_rate  batch_size  accuracy  precision    recall  \\\n",
       "5   wider     0.25         0.0050         512  0.843351   0.879721  0.823297   \n",
       "4   wider     0.25         0.0025         512  0.839541   0.876757  0.819676   \n",
       "7   wider     0.50         0.0050         512  0.836297   0.876725  0.809216   \n",
       "6   wider     0.50         0.0025         512  0.832865   0.876509  0.805919   \n",
       "1    deep     0.25         0.0050         512  0.817622   0.860134  0.790432   \n",
       "0    deep     0.25         0.0025         512  0.818703   0.858386  0.792784   \n",
       "9  deeper     0.25         0.0050         512  0.812108   0.855165  0.784324   \n",
       "8  deeper     0.25         0.0025         512  0.809595   0.852066  0.781730   \n",
       "3    deep     0.50         0.0050         512  0.798838   0.853938  0.753892   \n",
       "2    deep     0.50         0.0025         512  0.793622   0.847097  0.749405   \n",
       "\n",
       "        auc  \n",
       "5  0.966267  \n",
       "4  0.964805  \n",
       "7  0.962752  \n",
       "6  0.961006  \n",
       "1  0.954846  \n",
       "0  0.954079  \n",
       "9  0.951883  \n",
       "8  0.951411  \n",
       "3  0.945248  \n",
       "2  0.943247  "
      ]
     },
     "execution_count": 41,
     "metadata": {},
     "output_type": "execute_result"
    }
   ],
   "source": [
    "kfold_stats = dict_to_dataframe(stats)\n",
    "\n",
    "kfold_stats.sort_values(by=['auc'], ascending=False).head(10)"
   ]
  },
  {
   "cell_type": "code",
   "execution_count": 37,
   "metadata": {
    "id": "IQ0uEs5XXsxS"
   },
   "outputs": [],
   "source": [
    "# the best parameters by AUC are:\n",
    "# model = wider\n",
    "# dropout = 0.25\n",
    "# learning_rate = 0.005\n",
    "# batch_size = 512"
   ]
  },
  {
   "cell_type": "code",
   "execution_count": 42,
   "metadata": {
    "id": "0wbTVHEmXsxS"
   },
   "outputs": [],
   "source": [
    "# optimal parameters are taken out from our k-fold grid-search stats\n",
    "best_params = {\n",
    "    'model': wider,\n",
    "    'dropout': 0.25,\n",
    "    'learning_rate': 0.005,\n",
    "    'batch_size': 512\n",
    "}\n",
    "\n",
    "best_model = clone_model(wider)\n",
    "best_model.layers[1] = best_params['dropout'] # dropout layer\n",
    "    \n",
    "best_model.compile(optimizer=RMSprop(learning_rate=best_params['learning_rate']), \n",
    "                   loss=LOSS_FUNC, metrics=METRICS)\n",
    "        \n",
    "history = best_model.fit(X_train, y_train,\n",
    "                         class_weight=CLASS_WEIGHT,\n",
    "                         batch_size=best_params['batch_size'], epochs=EPOCHS, \n",
    "                         validation_data=(X_val, y_val),\n",
    "                         callbacks=[EARLY_STOP],\n",
    "                         verbose=0)"
   ]
  },
  {
   "cell_type": "code",
   "execution_count": 43,
   "metadata": {
    "colab": {
     "base_uri": "https://localhost:8080/"
    },
    "id": "hb8s0Wt9XsxS",
    "outputId": "82a7be0f-dde9-4ae9-eabf-2cd4a64c8adb"
   },
   "outputs": [
    {
     "name": "stdout",
     "output_type": "stream",
     "text": [
      "Accuracy (Validation): 0.86 (Naive Baseline = 0.30)\n",
      "Precision (Validation): 0.90\n",
      "Recall (Validation): 0.83\n",
      "AUC (Validation): 0.97\n"
     ]
    }
   ],
   "source": [
    "validation_scores = best_model.evaluate(X_val, y_val, verbose=0)[1:]\n",
    "\n",
    "print('Accuracy (Validation): {:.2f} (Naive Baseline = {:.2f})'.format(validation_scores[0], naive_baseline))\n",
    "print('Precision (Validation): {:.2f}'.format(validation_scores[1]))\n",
    "print('Recall (Validation): {:.2f}'.format(validation_scores[2]))\n",
    "print('AUC (Validation): {:.2f}'.format(validation_scores[3]))"
   ]
  },
  {
   "cell_type": "code",
   "execution_count": 44,
   "metadata": {
    "colab": {
     "base_uri": "https://localhost:8080/",
     "height": 295
    },
    "id": "AR6bIN6RXsxS",
    "outputId": "0aeb38d5-cf06-422d-99a0-2b2df71cadc7"
   },
   "outputs": [
    {
     "data": {
      "image/png": "[encoded data removed]",
      "text/plain": [
       "<Figure size 640x480 with 1 Axes>"
      ]
     },
     "metadata": {},
     "output_type": "display_data"
    }
   ],
   "source": [
    "plot_training_history(history, monitor='loss')"
   ]
  },
  {
   "cell_type": "code",
   "execution_count": 45,
   "metadata": {
    "colab": {
     "base_uri": "https://localhost:8080/"
    },
    "id": "wopwNOeBXsxS",
    "outputId": "1762abea-06b0-4233-9511-fbaf0320d9fb"
   },
   "outputs": [
    {
     "name": "stdout",
     "output_type": "stream",
     "text": [
      "Accuracy (Validation): 0.85 (Naive Baseline = 0.30)\n",
      "Precision (Validation): 0.90\n",
      "Recall (Validation): 0.83\n",
      "AUC (Validation): 0.97\n"
     ]
    }
   ],
   "source": [
    "test_scores = best_model.evaluate(X_test, y_test, verbose=0)[1:]\n",
    "\n",
    "print('Accuracy (Validation): {:.2f} (Naive Baseline = {:.2f})'.format(test_scores[0], naive_baseline))\n",
    "print('Precision (Validation): {:.2f}'.format(test_scores[1]))\n",
    "print('Recall (Validation): {:.2f}'.format(test_scores[2]))\n",
    "print('AUC (Validation): {:.2f}'.format(test_scores[3]))"
   ]
  },
  {
   "cell_type": "code",
   "execution_count": null,
   "metadata": {
    "id": "bh-53ly_XsxS"
   },
   "outputs": [],
   "source": []
  }
 ],
 "metadata": {
  "accelerator": "GPU",
  "colab": {
   "provenance": []
  },
  "gpuClass": "standard",
  "kernelspec": {
   "display_name": "Python 3 (ipykernel)",
   "language": "python",
   "name": "python3"
  },
  "language_info": {
   "codemirror_mode": {
    "name": "ipython",
    "version": 3
   },
   "file_extension": ".py",
   "mimetype": "text/x-python",
   "name": "python",
   "nbconvert_exporter": "python",
   "pygments_lexer": "ipython3",
   "version": "3.9.13"
  }
 },
 "nbformat": 4,
 "nbformat_minor": 1
}
